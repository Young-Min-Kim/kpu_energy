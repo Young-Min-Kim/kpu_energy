{
 "cells": [
  {
   "cell_type": "markdown",
   "metadata": {
    "id": "m6ihOQQt43DL"
   },
   "source": [
    "#버전\n",
    "###### 8.1 구글 코랩에 DB 연결\n",
    "###### 8.2 DB 데이터로 머신 러닝\n",
    "###### 8.3 그래프 출력 여부 확인\n",
    "###### 8.4 DB 머신러닝 지표로 날짜 변환하여 추가"
   ]
  },
  {
   "cell_type": "code",
   "execution_count": null,
   "metadata": {
    "executionInfo": {
     "elapsed": 510,
     "status": "ok",
     "timestamp": 1613219559881,
     "user": {
      "displayName": "김영민/소프트웨어전공/학생",
      "photoUrl": "",
      "userId": "10505288033469545317"
     },
     "user_tz": -540
    },
    "id": "0gu4qbbQLIvD"
   },
   "outputs": [],
   "source": [
    "import numpy as np\n",
    "import pandas as pd"
   ]
  },
  {
   "cell_type": "code",
   "execution_count": null,
   "metadata": {
    "colab": {
     "base_uri": "https://localhost:8080/"
    },
    "executionInfo": {
     "elapsed": 3672,
     "status": "ok",
     "timestamp": 1613219563048,
     "user": {
      "displayName": "김영민/소프트웨어전공/학생",
      "photoUrl": "",
      "userId": "10505288033469545317"
     },
     "user_tz": -540
    },
    "id": "avoG27bGLIvK",
    "outputId": "44a8ed71-f6ff-425e-ccc0-2c307628a6d7"
   },
   "outputs": [],
   "source": [
    "# 개선점\n",
    "###### 구글 코랩 세션 유지 javascript 코드 추가 (1분마다 자동 재연결) https://naenjun.tistory.com/18\n",
    "###### 코랩에 mysql 연결\n",
    "\n",
    "!pip install PyMySQL\n",
    "\n",
    "import pymysql"
   ]
  },
  {
   "cell_type": "code",
   "execution_count": null,
   "metadata": {
    "colab": {
     "base_uri": "https://localhost:8080/"
    },
    "executionInfo": {
     "elapsed": 4829,
     "status": "ok",
     "timestamp": 1613219564211,
     "user": {
      "displayName": "김영민/소프트웨어전공/학생",
      "photoUrl": "",
      "userId": "10505288033469545317"
     },
     "user_tz": -540
    },
    "id": "QxGkNLYdLIvM",
    "outputId": "07030e3a-ee26-4a1f-9157-881afdef249b"
   },
   "outputs": [],
   "source": [
    "from requests import get\n",
    "# pip install requests\n",
    "\n",
    "ip = get(\"https://api.ipify.org\").text\n",
    "print(\"My public IP address : \", ip)\n",
    "\n",
    "juso_db = pymysql.connect(\n",
    "    user='kym', \n",
    "    passwd='kim', \n",
    "    host='13.209.100.19', \n",
    "    db='test', \n",
    "    charset='utf8'\n",
    ")"
   ]
  },
  {
   "cell_type": "code",
   "execution_count": null,
   "metadata": {
    "colab": {
     "base_uri": "https://localhost:8080/"
    },
    "executionInfo": {
     "elapsed": 5653,
     "status": "ok",
     "timestamp": 1613219565041,
     "user": {
      "displayName": "김영민/소프트웨어전공/학생",
      "photoUrl": "",
      "userId": "10505288033469545317"
     },
     "user_tz": -540
    },
    "id": "ZxnUP6vHLIvM",
    "outputId": "80a3f616-0000-4b3e-dac1-2ec01466c19f"
   },
   "outputs": [],
   "source": [
    "# SQL문 실행\n",
    "# Connection 으로부터 Cursor 생성\n",
    "curs = juso_db.cursor(pymysql.cursors.DictCursor)\n",
    "\n",
    "sql = \"SELECT elec.electric, prod.id, prod.name, prod.location, DATE_FORMAT(TRUNCATE(elec.datetime, -2), '%Y.%m.%d %H:%i:%s') datetime, env.temp, env.humid FROM elec_stat elec INNER JOIN env env ON DATE_FORMAT(TRUNCATE(elec.datetime, -2), '%Y.%m.%d %H:%i:%s') = DATE_FORMAT(TRUNCATE(env.datetime, -2), '%Y.%m.%d %H:%i:%s') INNER JOIN product prod ON elec.prod_id = prod.id\"\n",
    "curs.execute(sql)\n",
    " \n",
    "# 데이타 Fetch\n",
    "rows = curs.fetchall()\n",
    "print(rows)     # 전체 rows"
   ]
  },
  {
   "cell_type": "code",
   "execution_count": null,
   "metadata": {
    "colab": {
     "base_uri": "https://localhost:8080/"
    },
    "executionInfo": {
     "elapsed": 5648,
     "status": "ok",
     "timestamp": 1613219565042,
     "user": {
      "displayName": "김영민/소프트웨어전공/학생",
      "photoUrl": "",
      "userId": "10505288033469545317"
     },
     "user_tz": -540
    },
    "id": "2tFCy0O0LIvN",
    "outputId": "4b57f531-70ec-4356-a546-eef2b66a3f0e"
   },
   "outputs": [],
   "source": [
    "r_data = np.array(rows)\n",
    "r_data"
   ]
  },
  {
   "cell_type": "code",
   "execution_count": null,
   "metadata": {
    "colab": {
     "base_uri": "https://localhost:8080/",
     "height": 402
    },
    "executionInfo": {
     "elapsed": 5643,
     "status": "ok",
     "timestamp": 1613219565042,
     "user": {
      "displayName": "김영민/소프트웨어전공/학생",
      "photoUrl": "",
      "userId": "10505288033469545317"
     },
     "user_tz": -540
    },
    "id": "Y9mZ-_3gLIvN",
    "outputId": "a20ae46f-a6df-4eba-e7e9-750e5fb153c0"
   },
   "outputs": [],
   "source": [
    "df = pd.DataFrame(rows)\n",
    "df"
   ]
  },
  {
   "cell_type": "code",
   "execution_count": null,
   "metadata": {
    "colab": {
     "base_uri": "https://localhost:8080/"
    },
    "executionInfo": {
     "elapsed": 5638,
     "status": "ok",
     "timestamp": 1613219565043,
     "user": {
      "displayName": "김영민/소프트웨어전공/학생",
      "photoUrl": "",
      "userId": "10505288033469545317"
     },
     "user_tz": -540
    },
    "id": "wA0pUK-xzzEP",
    "outputId": "c0d30422-e82e-4ffa-8520-ab8c72428c58"
   },
   "outputs": [],
   "source": [
    "df.info()"
   ]
  },
  {
   "cell_type": "code",
   "execution_count": null,
   "metadata": {
    "executionInfo": {
     "elapsed": 5634,
     "status": "ok",
     "timestamp": 1613219565043,
     "user": {
      "displayName": "김영민/소프트웨어전공/학생",
      "photoUrl": "",
      "userId": "10505288033469545317"
     },
     "user_tz": -540
    },
    "id": "x6skpUSDyALb"
   },
   "outputs": [],
   "source": [
    "df['datetime'] = pd.to_datetime(df['datetime'])"
   ]
  },
  {
   "cell_type": "code",
   "execution_count": null,
   "metadata": {
    "colab": {
     "base_uri": "https://localhost:8080/"
    },
    "executionInfo": {
     "elapsed": 5630,
     "status": "ok",
     "timestamp": 1613219565043,
     "user": {
      "displayName": "김영민/소프트웨어전공/학생",
      "photoUrl": "",
      "userId": "10505288033469545317"
     },
     "user_tz": -540
    },
    "id": "EjIPPqp70ITB",
    "outputId": "e406bf59-2cad-4bab-8fdf-0527bddf05e6"
   },
   "outputs": [],
   "source": [
    "df.info()"
   ]
  },
  {
   "cell_type": "code",
   "execution_count": null,
   "metadata": {
    "executionInfo": {
     "elapsed": 5836,
     "status": "ok",
     "timestamp": 1613219565253,
     "user": {
      "displayName": "김영민/소프트웨어전공/학생",
      "photoUrl": "",
      "userId": "10505288033469545317"
     },
     "user_tz": -540
    },
    "id": "qYrfxtEL0tGV"
   },
   "outputs": [],
   "source": [
    "df_minute=df['datetime'].apply(lambda 날짜: 날짜.minute)\n",
    "df_hour=df['datetime'].apply(lambda 날짜: 날짜.hour)"
   ]
  },
  {
   "cell_type": "code",
   "execution_count": null,
   "metadata": {
    "executionInfo": {
     "elapsed": 5833,
     "status": "ok",
     "timestamp": 1613219565254,
     "user": {
      "displayName": "김영민/소프트웨어전공/학생",
      "photoUrl": "",
      "userId": "10505288033469545317"
     },
     "user_tz": -540
    },
    "id": "GZpXmHPc1T3V"
   },
   "outputs": [],
   "source": [
    "df['time_hour']=df_hour\n",
    "df['time_minute']= df_minute"
   ]
  },
  {
   "cell_type": "code",
   "execution_count": null,
   "metadata": {
    "colab": {
     "base_uri": "https://localhost:8080/",
     "height": 402
    },
    "executionInfo": {
     "elapsed": 5829,
     "status": "ok",
     "timestamp": 1613219565254,
     "user": {
      "displayName": "김영민/소프트웨어전공/학생",
      "photoUrl": "",
      "userId": "10505288033469545317"
     },
     "user_tz": -540
    },
    "id": "fZkgGYAh2C3q",
    "outputId": "24a0e988-8bcd-4a78-e2a7-454722f05545"
   },
   "outputs": [],
   "source": [
    "df"
   ]
  },
  {
   "cell_type": "code",
   "execution_count": null,
   "metadata": {
    "colab": {
     "base_uri": "https://localhost:8080/"
    },
    "executionInfo": {
     "elapsed": 5825,
     "status": "ok",
     "timestamp": 1613219565255,
     "user": {
      "displayName": "김영민/소프트웨어전공/학생",
      "photoUrl": "",
      "userId": "10505288033469545317"
     },
     "user_tz": -540
    },
    "id": "koTwa6vpLIvO",
    "outputId": "ba36e0ae-5fcf-4825-9ac9-9813adce0645"
   },
   "outputs": [],
   "source": [
    "dataTestY = df.values[:,0]\n",
    "dataTestY01 = dataTestY.astype(float)\n",
    "dataTestY01"
   ]
  },
  {
   "cell_type": "code",
   "execution_count": null,
   "metadata": {
    "colab": {
     "base_uri": "https://localhost:8080/"
    },
    "executionInfo": {
     "elapsed": 5821,
     "status": "ok",
     "timestamp": 1613219565255,
     "user": {
      "displayName": "김영민/소프트웨어전공/학생",
      "photoUrl": "",
      "userId": "10505288033469545317"
     },
     "user_tz": -540
    },
    "id": "0mJyJAmaLIvO",
    "outputId": "b4e33d5c-c5cd-4bc6-9609-a3a972dc3f9f"
   },
   "outputs": [],
   "source": [
    "#userPeakValue = 0.1\n",
    "#testY = dataTestY01//userPeakValue\n",
    "#testY[:30]\n",
    "\n",
    "userPeakValue = 0.01\n",
    "testY = dataTestY01//userPeakValue\n",
    "testY[:30]"
   ]
  },
  {
   "cell_type": "code",
   "execution_count": null,
   "metadata": {
    "colab": {
     "base_uri": "https://localhost:8080/"
    },
    "executionInfo": {
     "elapsed": 5817,
     "status": "ok",
     "timestamp": 1613219565256,
     "user": {
      "displayName": "김영민/소프트웨어전공/학생",
      "photoUrl": "",
      "userId": "10505288033469545317"
     },
     "user_tz": -540
    },
    "id": "Ql1QG2rkLIvO",
    "outputId": "7877b964-5ff2-4d54-cd01-79f5e9d05e5a"
   },
   "outputs": [],
   "source": [
    "dataTestX= df[['id', 'temp', 'humid', 'time_hour', 'time_minute']]\n",
    "testX = dataTestX.values\n",
    "dataTestX01 = testX.astype(float)\n",
    "testX[:15]"
   ]
  },
  {
   "cell_type": "markdown",
   "metadata": {
    "id": "ronpBHX1YY4D"
   },
   "source": [
    "#RandomForestClassifier\n",
    "\n",
    "\n",
    "*   가장 무난\n",
    "\n"
   ]
  },
  {
   "cell_type": "code",
   "execution_count": null,
   "metadata": {
    "executionInfo": {
     "elapsed": 5812,
     "status": "ok",
     "timestamp": 1613219565256,
     "user": {
      "displayName": "김영민/소프트웨어전공/학생",
      "photoUrl": "",
      "userId": "10505288033469545317"
     },
     "user_tz": -540
    },
    "id": "cjDBMLnZLIvP"
   },
   "outputs": [],
   "source": [
    "from sklearn.ensemble import RandomForestClassifier"
   ]
  },
  {
   "cell_type": "code",
   "execution_count": null,
   "metadata": {
    "executionInfo": {
     "elapsed": 6030,
     "status": "ok",
     "timestamp": 1613219565477,
     "user": {
      "displayName": "김영민/소프트웨어전공/학생",
      "photoUrl": "",
      "userId": "10505288033469545317"
     },
     "user_tz": -540
    },
    "id": "GcoVZXeILIvP"
   },
   "outputs": [],
   "source": [
    "from sklearn.model_selection import train_test_split"
   ]
  },
  {
   "cell_type": "code",
   "execution_count": null,
   "metadata": {
    "executionInfo": {
     "elapsed": 6027,
     "status": "ok",
     "timestamp": 1613219565477,
     "user": {
      "displayName": "김영민/소프트웨어전공/학생",
      "photoUrl": "",
      "userId": "10505288033469545317"
     },
     "user_tz": -540
    },
    "id": "jskKuT5uLIvP"
   },
   "outputs": [],
   "source": [
    "def 모델평가(model, X, y, **설정):\n",
    "    X_train, X_test, y_train, y_test = train_test_split(X, y, **설정)\n",
    "    model.fit(X_train, y_train)\n",
    "    훈련점수 = model.score(X_train, y_train)\n",
    "    시험점수 = model.score(X_test, y_test)\n",
    "    return 훈련점수, 시험점수"
   ]
  },
  {
   "cell_type": "code",
   "execution_count": null,
   "metadata": {
    "colab": {
     "base_uri": "https://localhost:8080/"
    },
    "executionInfo": {
     "elapsed": 737,
     "status": "ok",
     "timestamp": 1613221952858,
     "user": {
      "displayName": "김영민/소프트웨어전공/학생",
      "photoUrl": "",
      "userId": "10505288033469545317"
     },
     "user_tz": -540
    },
    "id": "E14TzxRYLIvP",
    "outputId": "2132ec62-d4c1-461c-f60c-1b0b487d2c56"
   },
   "outputs": [],
   "source": [
    "energe_forest = RandomForestClassifier(n_estimators=100)\n",
    "모델평가(energe_forest, testX, testY)"
   ]
  },
  {
   "cell_type": "markdown",
   "metadata": {
    "id": "I2OIYm4qd5nG"
   },
   "source": [
    "#KNeighborsClassifier\n",
    "*   안 좋음\n",
    "\n",
    "\n"
   ]
  },
  {
   "cell_type": "code",
   "execution_count": null,
   "metadata": {
    "executionInfo": {
     "elapsed": 536,
     "status": "ok",
     "timestamp": 1613221313030,
     "user": {
      "displayName": "김영민/소프트웨어전공/학생",
      "photoUrl": "",
      "userId": "10505288033469545317"
     },
     "user_tz": -540
    },
    "id": "_YrXZXJtd7I2"
   },
   "outputs": [],
   "source": [
    "from sklearn.neighbors import KNeighborsClassifier"
   ]
  },
  {
   "cell_type": "code",
   "execution_count": null,
   "metadata": {
    "colab": {
     "base_uri": "https://localhost:8080/"
    },
    "executionInfo": {
     "elapsed": 594,
     "status": "ok",
     "timestamp": 1613221429569,
     "user": {
      "displayName": "김영민/소프트웨어전공/학생",
      "photoUrl": "",
      "userId": "10505288033469545317"
     },
     "user_tz": -540
    },
    "id": "VwBmWm-1d9x4",
    "outputId": "f9828958-2ee3-4254-cd5a-0def75963e5b"
   },
   "outputs": [],
   "source": [
    "energe_KNN = KNeighborsClassifier(n_neighbors = 8)\n",
    "모델평가(energe_KNN, testX, testY)"
   ]
  },
  {
   "cell_type": "markdown",
   "metadata": {
    "id": "rx7vJKcGfI4w"
   },
   "source": [
    "#KNeighborsRegressor\n",
    "*   더 안좋음\n",
    "\n",
    "\n"
   ]
  },
  {
   "cell_type": "code",
   "execution_count": null,
   "metadata": {
    "executionInfo": {
     "elapsed": 546,
     "status": "ok",
     "timestamp": 1613221400911,
     "user": {
      "displayName": "김영민/소프트웨어전공/학생",
      "photoUrl": "",
      "userId": "10505288033469545317"
     },
     "user_tz": -540
    },
    "id": "C2_yHdsDfOzM"
   },
   "outputs": [],
   "source": [
    "from sklearn.neighbors import KNeighborsRegressor"
   ]
  },
  {
   "cell_type": "code",
   "execution_count": null,
   "metadata": {
    "colab": {
     "base_uri": "https://localhost:8080/"
    },
    "executionInfo": {
     "elapsed": 555,
     "status": "ok",
     "timestamp": 1613221440690,
     "user": {
      "displayName": "김영민/소프트웨어전공/학생",
      "photoUrl": "",
      "userId": "10505288033469545317"
     },
     "user_tz": -540
    },
    "id": "sO8Y3d8kfRgY",
    "outputId": "44d00bfa-6dac-492e-fdb8-010fd246a0c5"
   },
   "outputs": [],
   "source": [
    "energe_KNR = KNeighborsRegressor(n_neighbors = 8)\n",
    "모델평가(energe_KNR, testX, testY)"
   ]
  },
  {
   "cell_type": "markdown",
   "metadata": {
    "id": "GmO-J3ZvYX2N"
   },
   "source": [
    "#GradientBoostingClassifier"
   ]
  },
  {
   "cell_type": "code",
   "execution_count": null,
   "metadata": {
    "executionInfo": {
     "elapsed": 553,
     "status": "ok",
     "timestamp": 1613220479165,
     "user": {
      "displayName": "김영민/소프트웨어전공/학생",
      "photoUrl": "",
      "userId": "10505288033469545317"
     },
     "user_tz": -540
    },
    "id": "lLfiYVrBbk8e"
   },
   "outputs": [],
   "source": [
    "from sklearn.ensemble import GradientBoostingClassifier"
   ]
  },
  {
   "cell_type": "code",
   "execution_count": null,
   "metadata": {
    "colab": {
     "base_uri": "https://localhost:8080/"
    },
    "executionInfo": {
     "elapsed": 5134,
     "status": "ok",
     "timestamp": 1613220969389,
     "user": {
      "displayName": "김영민/소프트웨어전공/학생",
      "photoUrl": "",
      "userId": "10505288033469545317"
     },
     "user_tz": -540
    },
    "id": "XwDX-VO4bk0q",
    "outputId": "1b9529b2-a2e1-4155-95db-3fd61d6d8899"
   },
   "outputs": [],
   "source": [
    "energe_gbrt = GradientBoostingClassifier(n_estimators=200, max_depth=6, learning_rate=0.1)\n",
    "모델평가(energe_gbrt, testX, testY)"
   ]
  },
  {
   "cell_type": "markdown",
   "metadata": {
    "id": "z2Kcd9P6f5lB"
   },
   "source": [
    "#LinearSVC\n",
    "\n",
    "*   안 좋음\n",
    "\n"
   ]
  },
  {
   "cell_type": "code",
   "execution_count": null,
   "metadata": {
    "executionInfo": {
     "elapsed": 553,
     "status": "ok",
     "timestamp": 1613222228595,
     "user": {
      "displayName": "김영민/소프트웨어전공/학생",
      "photoUrl": "",
      "userId": "10505288033469545317"
     },
     "user_tz": -540
    },
    "id": "3lvIUZryf5lG"
   },
   "outputs": [],
   "source": [
    "from sklearn.svm import LinearSVC"
   ]
  },
  {
   "cell_type": "code",
   "execution_count": null,
   "metadata": {
    "colab": {
     "base_uri": "https://localhost:8080/"
    },
    "executionInfo": {
     "elapsed": 1030,
     "status": "ok",
     "timestamp": 1613222347566,
     "user": {
      "displayName": "김영민/소프트웨어전공/학생",
      "photoUrl": "",
      "userId": "10505288033469545317"
     },
     "user_tz": -540
    },
    "id": "Mv1Ufcdhf5lG",
    "outputId": "ab869a13-bb65-44ef-d583-01293d0a042b"
   },
   "outputs": [],
   "source": [
    "energe_LinSVC = LinearSVC()\n",
    "모델평가(energe_LinSVC, testX, testY)"
   ]
  },
  {
   "cell_type": "markdown",
   "metadata": {
    "id": "Cs8R_TurLIvQ"
   },
   "source": [
    "## ------------------------------------ 전력 분포 확인용 ------------------------------------"
   ]
  },
  {
   "cell_type": "code",
   "execution_count": null,
   "metadata": {
    "colab": {
     "base_uri": "https://localhost:8080/"
    },
    "executionInfo": {
     "elapsed": 7102,
     "status": "ok",
     "timestamp": 1613219566560,
     "user": {
      "displayName": "김영민/소프트웨어전공/학생",
      "photoUrl": "",
      "userId": "10505288033469545317"
     },
     "user_tz": -540
    },
    "id": "gixBi5tfLIvQ",
    "outputId": "aa18d88d-7920-4300-d1ad-3b5caad8b3a8"
   },
   "outputs": [],
   "source": [
    "from requests import get\n",
    "# pip install requests\n",
    "\n",
    "ip = get(\"https://api.ipify.org\").text\n",
    "print(\"My public IP address : \", ip)\n",
    "\n",
    "juso_db = pymysql.connect(\n",
    "    user='kym', \n",
    "    passwd='kim', \n",
    "    host='13.209.100.19', \n",
    "    db='test', \n",
    "    charset='utf8'\n",
    ")"
   ]
  },
  {
   "cell_type": "code",
   "execution_count": null,
   "metadata": {
    "colab": {
     "base_uri": "https://localhost:8080/"
    },
    "executionInfo": {
     "elapsed": 7438,
     "status": "ok",
     "timestamp": 1613219566901,
     "user": {
      "displayName": "김영민/소프트웨어전공/학생",
      "photoUrl": "",
      "userId": "10505288033469545317"
     },
     "user_tz": -540
    },
    "id": "diSvMzMVLIvQ",
    "outputId": "d79eea9e-607e-49f7-9194-84de5de4a0fa"
   },
   "outputs": [],
   "source": [
    "# SQL문 실행\n",
    "# Connection 으로부터 Cursor 생성\n",
    "curs = juso_db.cursor(pymysql.cursors.DictCursor)\n",
    "\n",
    "sql = \"SELECT electric FROM elec_stat\"\n",
    "curs.execute(sql)\n",
    " \n",
    "# 데이타 Fetch\n",
    "rows = curs.fetchall()\n",
    "print(rows)     # 전체 rows"
   ]
  },
  {
   "cell_type": "code",
   "execution_count": null,
   "metadata": {
    "colab": {
     "base_uri": "https://localhost:8080/"
    },
    "executionInfo": {
     "elapsed": 7435,
     "status": "ok",
     "timestamp": 1613219566902,
     "user": {
      "displayName": "김영민/소프트웨어전공/학생",
      "photoUrl": "",
      "userId": "10505288033469545317"
     },
     "user_tz": -540
    },
    "id": "OBlA1UafLIvR",
    "outputId": "4c74c51d-ca71-43ff-d993-c1b501149f78"
   },
   "outputs": [],
   "source": [
    "df = pd.DataFrame(rows)\n",
    "df['electric'].unique()# 10개?"
   ]
  },
  {
   "cell_type": "code",
   "execution_count": null,
   "metadata": {
    "executionInfo": {
     "elapsed": 7430,
     "status": "ok",
     "timestamp": 1613219566902,
     "user": {
      "displayName": "김영민/소프트웨어전공/학생",
      "photoUrl": "",
      "userId": "10505288033469545317"
     },
     "user_tz": -540
    },
    "id": "iDtvcuI1X8Tw"
   },
   "outputs": [],
   "source": [
    "import matplotlib.pyplot as plt"
   ]
  },
  {
   "cell_type": "code",
   "execution_count": null,
   "metadata": {
    "colab": {
     "base_uri": "https://localhost:8080/",
     "height": 1000
    },
    "executionInfo": {
     "elapsed": 16970,
     "status": "ok",
     "timestamp": 1613219576445,
     "user": {
      "displayName": "김영민/소프트웨어전공/학생",
      "photoUrl": "",
      "userId": "10505288033469545317"
     },
     "user_tz": -540
    },
    "id": "MWuReOkwXIPV",
    "outputId": "68663634-a754-4b7e-9954-0fe9fb825338"
   },
   "outputs": [],
   "source": [
    "fig = plt.figure(figsize=(100,10)) ## 캔버스 생성\n",
    "fig.set_facecolor('white') ## 캔버스 색상 설정\n",
    "ax = fig.add_subplot() ## 그림 뼈대(프레임) 생성\n",
    "\n",
    "ax.plot(df['electric']) ## 선그래프 생성\n",
    "\n",
    "plt.xticks(df['electric'], rotation=90) # when X tick labels are long"
   ]
  },
  {
   "cell_type": "code",
   "execution_count": null,
   "metadata": {
    "executionInfo": {
     "elapsed": 16965,
     "status": "ok",
     "timestamp": 1613219576446,
     "user": {
      "displayName": "김영민/소프트웨어전공/학생",
      "photoUrl": "",
      "userId": "10505288033469545317"
     },
     "user_tz": -540
    },
    "id": "j1d4DBu4LIvR"
   },
   "outputs": [],
   "source": [
    "# Connection 닫기\n",
    "juso_db.close()"
   ]
  },
  {
   "cell_type": "code",
   "execution_count": null,
   "metadata": {
    "executionInfo": {
     "elapsed": 16962,
     "status": "ok",
     "timestamp": 1613219576446,
     "user": {
      "displayName": "김영민/소프트웨어전공/학생",
      "photoUrl": "",
      "userId": "10505288033469545317"
     },
     "user_tz": -540
    },
    "id": "ZJAGoiCILQ4y"
   },
   "outputs": [],
   "source": []
  }
 ],
 "metadata": {
  "colab": {
   "collapsed_sections": [],
   "name": "mySystem08.ipynb",
   "provenance": []
  },
  "kernelspec": {
   "display_name": "Python 3",
   "language": "python",
   "name": "python3"
  },
  "language_info": {
   "codemirror_mode": {
    "name": "ipython",
    "version": 3
   },
   "file_extension": ".py",
   "mimetype": "text/x-python",
   "name": "python",
   "nbconvert_exporter": "python",
   "pygments_lexer": "ipython3",
   "version": "3.8.8"
  }
 },
 "nbformat": 4,
 "nbformat_minor": 1
}
